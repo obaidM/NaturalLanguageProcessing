{
 "cells": [
  {
   "cell_type": "code",
   "execution_count": 1,
   "metadata": {},
   "outputs": [],
   "source": [
    "import spacy\n",
    "nlp= spacy.load('en_core_web_sm')"
   ]
  },
  {
   "cell_type": "code",
   "execution_count": 2,
   "metadata": {},
   "outputs": [
    {
     "name": "stdout",
     "output_type": "stream",
     "text": [
      "{'becoming', 'seeming', 'being', 'hence', 'ourselves', 'your', 'can', 'hereafter', 'what', 'except', 'each', 'hundred', 'could', 'am', 'above', 'beforehand', 'yours', 'which', 'something', 'latterly', 'several', 'are', 'never', 'out', 'everyone', 'alone', 'become', 're', 'sometimes', 'through', 'as', 'herself', 'without', 'you', 'neither', 'back', 'latter', 'rather', 'moreover', 'name', 'her', 'all', 'very', 'below', 'enough', 'before', 'nine', 'onto', 'from', 'toward', 'also', 'anyone', 'go', 'nevertheless', 'side', 'been', 'along', 'many', 'upon', 'well', 'us', 'quite', 'on', 'done', 'herein', 'they', 'at', 'but', 'i', 'hereupon', 'already', 'an', 'around', 'itself', 'empty', 'whether', 'namely', 'do', 'using', 'few', 'fifteen', 'thus', 'fifty', 'indeed', 'twelve', 'either', 'whenever', 'nothing', 'both', 'hereby', 'elsewhere', 'had', 'whereupon', 'yet', 'therefore', 'about', 'put', 'be', 'give', 'than', 'up', 'under', 'has', 'have', 'third', 'is', 'throughout', 'until', 'during', 'now', 'say', 'off', 'thence', 'its', 'must', 'really', 'might', 'or', 'three', 'whole', 'even', 'them', 'then', 'among', 'others', 'whence', 'did', 'no', 'front', 'bottom', 'if', 'thru', 'show', 'will', 'whereas', 'whom', 'whereby', 'meanwhile', 'however', 'various', 'forty', 'our', 'some', 'yourself', 'everything', 'eleven', 'take', 'over', 'thereby', 'a', 'sixty', 'myself', 'see', 'would', 'thereupon', 'ours', 'since', 'regarding', 'my', 'none', 'nowhere', 'besides', 'between', 'again', 'these', 'by', 'not', 'was', 'the', 'does', 'seems', 'when', 'next', 'to', 'due', 'own', 'wherein', 'became', 'me', 'please', 'top', 'becomes', 'call', 'formerly', 'made', 'themselves', 'here', 'where', 'while', 'former', 'down', 'their', 'it', 'behind', 'he', 'still', 'those', 'mine', 'much', 'serious', 'full', 'used', 'after', 'nor', 'why', 'yourselves', 'first', 'himself', 'any', 'four', 'his', 'anywhere', 'move', 'part', 'of', 'six', 'such', 'via', 'whose', 'doing', 'for', 'in', 'often', 'two', 'one', 'how', 'unless', 'whoever', 'per', 'whither', 'thereafter', 'anyway', 'we', 'amount', 'always', 'anything', 'into', 'him', 'there', 'ten', 'somehow', 'this', 'once', 'everywhere', 'most', 'otherwise', 'twenty', 'with', 'sometime', 'anyhow', 'seemed', 'seem', 'because', 'only', 'that', 'noone', 'beyond', 'within', 'ever', 'she', 'afterwards', 'beside', 'hers', 'should', 'more', 'may', 'against', 'get', 'though', 'other', 'every', 'someone', 'together', 'same', 'were', 'almost', 'who', 'keep', 'cannot', 'just', 'further', 'nobody', 'whatever', 'perhaps', 'so', 'five', 'least', 'another', 'else', 'last', 'less', 'make', 'too', 'whereafter', 'amongst', 'somewhere', 'although', 'and', 'wherever', 'ca', 'mostly', 'therein', 'across', 'towards', 'eight'}\n"
     ]
    }
   ],
   "source": [
    "print(nlp.Defaults.stop_words)"
   ]
  },
  {
   "cell_type": "code",
   "execution_count": 3,
   "metadata": {},
   "outputs": [
    {
     "data": {
      "text/plain": [
       "305"
      ]
     },
     "execution_count": 3,
     "metadata": {},
     "output_type": "execute_result"
    }
   ],
   "source": [
    "len(nlp.Defaults.stop_words)"
   ]
  },
  {
   "cell_type": "code",
   "execution_count": 4,
   "metadata": {},
   "outputs": [
    {
     "data": {
      "text/plain": [
       "True"
      ]
     },
     "execution_count": 4,
     "metadata": {},
     "output_type": "execute_result"
    }
   ],
   "source": [
    "nlp.vocab['is'].is_stop"
   ]
  },
  {
   "cell_type": "code",
   "execution_count": 5,
   "metadata": {},
   "outputs": [],
   "source": [
    "words=['ran','being','lamda','epoch','of','man','keep']"
   ]
  },
  {
   "cell_type": "code",
   "execution_count": 6,
   "metadata": {},
   "outputs": [
    {
     "name": "stdout",
     "output_type": "stream",
     "text": [
      "ran \t False\n",
      "being \t True\n",
      "lamda \t False\n",
      "epoch \t False\n",
      "of \t True\n",
      "man \t False\n",
      "keep \t True\n"
     ]
    }
   ],
   "source": [
    "for word in words:\n",
    "    print(word,'\\t',nlp.vocab[word].is_stop)"
   ]
  },
  {
   "cell_type": "code",
   "execution_count": 9,
   "metadata": {},
   "outputs": [],
   "source": [
    "nlp.Defaults.stop_words.add('btw')"
   ]
  },
  {
   "cell_type": "code",
   "execution_count": 11,
   "metadata": {},
   "outputs": [],
   "source": [
    "nlp.vocab['btw'].is_stop = True"
   ]
  },
  {
   "cell_type": "code",
   "execution_count": 12,
   "metadata": {},
   "outputs": [
    {
     "data": {
      "text/plain": [
       "True"
      ]
     },
     "execution_count": 12,
     "metadata": {},
     "output_type": "execute_result"
    }
   ],
   "source": [
    "nlp.vocab['btw'].is_stop"
   ]
  },
  {
   "cell_type": "code",
   "execution_count": 16,
   "metadata": {},
   "outputs": [
    {
     "data": {
      "text/plain": [
       "306"
      ]
     },
     "execution_count": 16,
     "metadata": {},
     "output_type": "execute_result"
    }
   ],
   "source": [
    "len(nlp.Defaults.stop_words)      ### NOTICE THAT INITIALLY IT WAS 305"
   ]
  },
  {
   "cell_type": "code",
   "execution_count": 17,
   "metadata": {},
   "outputs": [],
   "source": [
    "nlp.Defaults.stop_words.remove('btw')"
   ]
  },
  {
   "cell_type": "code",
   "execution_count": 18,
   "metadata": {},
   "outputs": [],
   "source": [
    "nlp.vocab['btw'].is_stop = False"
   ]
  },
  {
   "cell_type": "code",
   "execution_count": 19,
   "metadata": {},
   "outputs": [
    {
     "data": {
      "text/plain": [
       "305"
      ]
     },
     "execution_count": 19,
     "metadata": {},
     "output_type": "execute_result"
    }
   ],
   "source": [
    "len(nlp.Defaults.stop_words) "
   ]
  },
  {
   "cell_type": "code",
   "execution_count": null,
   "metadata": {},
   "outputs": [],
   "source": []
  }
 ],
 "metadata": {
  "kernelspec": {
   "display_name": "Python 3",
   "language": "python",
   "name": "python3"
  },
  "language_info": {
   "codemirror_mode": {
    "name": "ipython",
    "version": 3
   },
   "file_extension": ".py",
   "mimetype": "text/x-python",
   "name": "python",
   "nbconvert_exporter": "python",
   "pygments_lexer": "ipython3",
   "version": "3.6.8"
  }
 },
 "nbformat": 4,
 "nbformat_minor": 2
}

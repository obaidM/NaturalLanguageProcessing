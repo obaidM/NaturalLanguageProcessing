{
 "cells": [
  {
   "cell_type": "code",
   "execution_count": 1,
   "metadata": {},
   "outputs": [],
   "source": [
    "import spacy\n",
    "nlp = spacy.load('en_core_web_sm')"
   ]
  },
  {
   "cell_type": "code",
   "execution_count": 2,
   "metadata": {},
   "outputs": [],
   "source": [
    "mystring = '\"We \\'re moving to L.A. !\"'  ### backslash is needed so string won't be broken"
   ]
  },
  {
   "cell_type": "code",
   "execution_count": 4,
   "metadata": {},
   "outputs": [
    {
     "name": "stdout",
     "output_type": "stream",
     "text": [
      "\"We 're moving to L.A. !\"\n"
     ]
    }
   ],
   "source": [
    "print(mystring)"
   ]
  },
  {
   "cell_type": "code",
   "execution_count": 7,
   "metadata": {},
   "outputs": [
    {
     "name": "stdout",
     "output_type": "stream",
     "text": [
      "\"\n",
      "We\n",
      "'re\n",
      "moving\n",
      "to\n",
      "L.A.\n",
      "!\n",
      "\"\n"
     ]
    }
   ],
   "source": [
    "doc = nlp(mystring)  ### had to put string in as spacy package \n",
    "for token in doc:\n",
    "    print(token)"
   ]
  },
  {
   "cell_type": "code",
   "execution_count": 8,
   "metadata": {},
   "outputs": [],
   "source": [
    "doc= nlp(u\" We are here to help! please send your snail-mail to us, contact us  @ support@obie.com and check us out at http://www.bestwebsite.com\")"
   ]
  },
  {
   "cell_type": "code",
   "execution_count": 9,
   "metadata": {},
   "outputs": [
    {
     "name": "stdout",
     "output_type": "stream",
     "text": [
      " \n",
      "We\n",
      "are\n",
      "here\n",
      "to\n",
      "help\n",
      "!\n",
      "please\n",
      "send\n",
      "your\n",
      "snail\n",
      "-\n",
      "mail\n",
      "to\n",
      "us\n",
      ",\n",
      "contact\n",
      "us\n",
      " \n",
      "@\n",
      "support@obie.com\n",
      "and\n",
      "check\n",
      "us\n",
      "out\n",
      "at\n",
      "http://www.bestwebsite.com\n"
     ]
    }
   ],
   "source": [
    "for token in doc:\n",
    "    print(token)  ### note that website and email names remained together"
   ]
  },
  {
   "cell_type": "markdown",
   "metadata": {},
   "source": [
    "## Spacy handling of money units"
   ]
  },
  {
   "cell_type": "code",
   "execution_count": 12,
   "metadata": {},
   "outputs": [
    {
     "name": "stdout",
     "output_type": "stream",
     "text": [
      " \n",
      "uber\n",
      "in\n",
      "NYC\n",
      "for\n",
      "5\n",
      "miles\n",
      "ride\n",
      "cost\n",
      "$\n",
      "12.79\n"
     ]
    }
   ],
   "source": [
    "doc = nlp(u\" uber in NYC for 5 miles ride cost $12.79 \")\n",
    "\n",
    "for token in doc:\n",
    "    print(token)   ### money value remained intact "
   ]
  },
  {
   "cell_type": "code",
   "execution_count": 13,
   "metadata": {},
   "outputs": [
    {
     "data": {
      "text/plain": [
       "11"
      ]
     },
     "execution_count": 13,
     "metadata": {},
     "output_type": "execute_result"
    }
   ],
   "source": [
    "len(doc)"
   ]
  },
  {
   "cell_type": "markdown",
   "metadata": {},
   "source": [
    "# Tokens cannot be reassigned"
   ]
  },
  {
   "cell_type": "markdown",
   "metadata": {},
   "source": [
    "## named entity"
   ]
  },
  {
   "cell_type": "code",
   "execution_count": 14,
   "metadata": {},
   "outputs": [],
   "source": [
    "doc = nlp(u\" Apple to build a Dallas factory for $5 Million. I am hungry and can eat an apple\")"
   ]
  },
  {
   "cell_type": "code",
   "execution_count": 15,
   "metadata": {},
   "outputs": [
    {
     "name": "stdout",
     "output_type": "stream",
     "text": [
      " |Apple|to|build|a|Dallas|factory|for|$|5|Million|.|I|am|hungry|and|can|eat|an|apple|"
     ]
    }
   ],
   "source": [
    "for token in doc:\n",
    "    print(token.text,end='|')"
   ]
  },
  {
   "cell_type": "code",
   "execution_count": 20,
   "metadata": {},
   "outputs": [
    {
     "name": "stdout",
     "output_type": "stream",
     "text": [
      "Apple ORG Companies, agencies, institutions, etc.\n",
      "Dallas GPE Countries, cities, states\n",
      "$5 Million MONEY Monetary values, including unit\n"
     ]
    }
   ],
   "source": [
    "for ents in doc.ents:\n",
    "    print(ents,ents.label_,spacy.explain(ents.label_))"
   ]
  },
  {
   "cell_type": "code",
   "execution_count": null,
   "metadata": {},
   "outputs": [],
   "source": []
  }
 ],
 "metadata": {
  "kernelspec": {
   "display_name": "Python 3",
   "language": "python",
   "name": "python3"
  },
  "language_info": {
   "codemirror_mode": {
    "name": "ipython",
    "version": 3
   },
   "file_extension": ".py",
   "mimetype": "text/x-python",
   "name": "python",
   "nbconvert_exporter": "python",
   "pygments_lexer": "ipython3",
   "version": "3.6.8"
  }
 },
 "nbformat": 4,
 "nbformat_minor": 2
}

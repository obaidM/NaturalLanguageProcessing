{
 "cells": [
  {
   "cell_type": "code",
   "execution_count": 1,
   "metadata": {},
   "outputs": [],
   "source": [
    "import spacy"
   ]
  },
  {
   "cell_type": "code",
   "execution_count": 2,
   "metadata": {},
   "outputs": [],
   "source": [
    "nlp= spacy.load('en_core_web_sm')"
   ]
  },
  {
   "cell_type": "code",
   "execution_count": 3,
   "metadata": {},
   "outputs": [],
   "source": [
    "doc= nlp(u\"I am a runner running because I love to run since I ran today\")"
   ]
  },
  {
   "cell_type": "code",
   "execution_count": 7,
   "metadata": {},
   "outputs": [
    {
     "name": "stdout",
     "output_type": "stream",
     "text": [
      "I \t PRON \t -PRON-\n",
      "am \t VERB \t be\n",
      "a \t DET \t a\n",
      "runner \t NOUN \t runner\n",
      "running \t VERB \t run\n",
      "because \t ADP \t because\n",
      "I \t PRON \t -PRON-\n",
      "love \t VERB \t love\n",
      "to \t PART \t to\n",
      "run \t VERB \t run\n",
      "since \t ADP \t since\n",
      "I \t PRON \t -PRON-\n",
      "ran \t VERB \t run\n",
      "today \t NOUN \t today\n"
     ]
    }
   ],
   "source": [
    "for token in doc:\n",
    "    print(token.text,'\\t',token.pos_,'\\t',token.lemma_)"
   ]
  },
  {
   "cell_type": "markdown",
   "metadata": {},
   "source": [
    "## Add a custom word to your stopwords"
   ]
  },
  {
   "cell_type": "code",
   "execution_count": null,
   "metadata": {},
   "outputs": [],
   "source": []
  }
 ],
 "metadata": {
  "kernelspec": {
   "display_name": "Python 3",
   "language": "python",
   "name": "python3"
  },
  "language_info": {
   "codemirror_mode": {
    "name": "ipython",
    "version": 3
   },
   "file_extension": ".py",
   "mimetype": "text/x-python",
   "name": "python",
   "nbconvert_exporter": "python",
   "pygments_lexer": "ipython3",
   "version": "3.6.8"
  }
 },
 "nbformat": 4,
 "nbformat_minor": 2
}

{
 "cells": [
  {
   "cell_type": "code",
   "execution_count": 1,
   "metadata": {},
   "outputs": [],
   "source": [
    "import spacy\n",
    "nlp = spacy.load('en_core_web_sm')"
   ]
  },
  {
   "cell_type": "code",
   "execution_count": 2,
   "metadata": {},
   "outputs": [],
   "source": [
    "doc = nlp(u'the quick brown fox jumped over the lazy dog')"
   ]
  },
  {
   "cell_type": "code",
   "execution_count": 3,
   "metadata": {},
   "outputs": [
    {
     "data": {
      "text/plain": [
       "the quick brown fox jumped over the lazy dog"
      ]
     },
     "execution_count": 3,
     "metadata": {},
     "output_type": "execute_result"
    }
   ],
   "source": [
    "doc"
   ]
  },
  {
   "cell_type": "code",
   "execution_count": 8,
   "metadata": {},
   "outputs": [
    {
     "name": "stdout",
     "output_type": "stream",
     "text": [
      "the \t DET \t DT \t determiner\n",
      "quick \t ADJ \t JJ \t adjective\n",
      "brown \t ADJ \t JJ \t adjective\n",
      "fox \t NOUN \t NN \t noun, singular or mass\n",
      "jumped \t VERB \t VBD \t verb, past tense\n",
      "over \t ADP \t IN \t conjunction, subordinating or preposition\n",
      "the \t DET \t DT \t determiner\n",
      "lazy \t ADJ \t JJ \t adjective\n",
      "dog \t NOUN \t NN \t noun, singular or mass\n"
     ]
    }
   ],
   "source": [
    "## lets do text with pos and fine grain tag\n",
    "\n",
    "for token in doc:\n",
    "    print(token.text,\"\\t\",token.pos_,\"\\t\",token.tag_,\"\\t\",spacy.explain(token.tag_))"
   ]
  },
  {
   "cell_type": "code",
   "execution_count": 9,
   "metadata": {},
   "outputs": [
    {
     "name": "stdout",
     "output_type": "stream",
     "text": [
      "I \t PRON \t PRP \t pronoun, personal\n",
      "like \t VERB \t VBP \t verb, non-3rd person singular present\n",
      "to \t PART \t TO \t infinitival to\n",
      "read \t VERB \t VB \t verb, base form\n",
      "books \t NOUN \t NNS \t noun, plural\n",
      "on \t ADP \t IN \t conjunction, subordinating or preposition\n",
      "python \t NOUN \t NN \t noun, singular or mass\n",
      "and \t CCONJ \t CC \t conjunction, coordinating\n",
      "spark \t NOUN \t NN \t noun, singular or mass\n"
     ]
    }
   ],
   "source": [
    "doc = nlp(u'I like to read books on python and spark')\n",
    "for token in doc:\n",
    "    print(token.text,\"\\t\",token.pos_,\"\\t\",token.tag_,\"\\t\",spacy.explain(token.tag_))"
   ]
  },
  {
   "cell_type": "code",
   "execution_count": 10,
   "metadata": {},
   "outputs": [
    {
     "name": "stdout",
     "output_type": "stream",
     "text": [
      "I \t PRON \t PRP \t pronoun, personal\n",
      "read \t VERB \t VBD \t verb, past tense\n",
      "a \t DET \t DT \t determiner\n",
      "book \t NOUN \t NN \t noun, singular or mass\n",
      "on \t ADP \t IN \t conjunction, subordinating or preposition\n",
      "python \t NOUN \t NN \t noun, singular or mass\n",
      "NLP \t PROPN \t NNP \t noun, proper singular\n"
     ]
    }
   ],
   "source": [
    "doc = nlp(u'I read a book on python NLP')\n",
    "\n",
    "for token in doc:\n",
    "    print(token.text,\"\\t\",token.pos_,\"\\t\",token.tag_,\"\\t\",spacy.explain(token.tag_))\n"
   ]
  },
  {
   "cell_type": "markdown",
   "metadata": {},
   "source": [
    "## See above that Spacy knows which read was paste tense and which was base form. Very important in sentiment analysis and understanding the subtectivity of the customer"
   ]
  },
  {
   "cell_type": "code",
   "execution_count": 11,
   "metadata": {},
   "outputs": [],
   "source": [
    "doc = nlp(u'the quick brown fox jumped over the lazy dog')\n",
    "pos_counts = doc.count_by(spacy.attrs.POS)"
   ]
  },
  {
   "cell_type": "code",
   "execution_count": 12,
   "metadata": {},
   "outputs": [
    {
     "data": {
      "text/plain": [
       "{83: 3, 99: 1, 84: 1, 89: 2, 91: 2}"
      ]
     },
     "execution_count": 12,
     "metadata": {},
     "output_type": "execute_result"
    }
   ],
   "source": [
    "pos_counts"
   ]
  },
  {
   "cell_type": "code",
   "execution_count": 14,
   "metadata": {},
   "outputs": [
    {
     "data": {
      "text/plain": [
       "'ADJ'"
      ]
     },
     "execution_count": 14,
     "metadata": {},
     "output_type": "execute_result"
    }
   ],
   "source": [
    "doc.vocab[83].text"
   ]
  },
  {
   "cell_type": "code",
   "execution_count": 15,
   "metadata": {},
   "outputs": [],
   "source": [
    "doc = nlp(u'the quick brown fox jumped over the lazy dog')\n",
    "tag_counts = doc.count_by(spacy.attrs.TAG)"
   ]
  },
  {
   "cell_type": "code",
   "execution_count": 16,
   "metadata": {},
   "outputs": [
    {
     "data": {
      "text/plain": [
       "{15308085513773655218: 2,\n",
       " 17109001835818727656: 1,\n",
       " 15267657372422890137: 2,\n",
       " 10554686591937588953: 3,\n",
       " 1292078113972184607: 1}"
      ]
     },
     "execution_count": 16,
     "metadata": {},
     "output_type": "execute_result"
    }
   ],
   "source": [
    "tag_counts"
   ]
  },
  {
   "cell_type": "code",
   "execution_count": null,
   "metadata": {},
   "outputs": [],
   "source": []
  }
 ],
 "metadata": {
  "kernelspec": {
   "display_name": "Python 3",
   "language": "python",
   "name": "python3"
  },
  "language_info": {
   "codemirror_mode": {
    "name": "ipython",
    "version": 3
   },
   "file_extension": ".py",
   "mimetype": "text/x-python",
   "name": "python",
   "nbconvert_exporter": "python",
   "pygments_lexer": "ipython3",
   "version": "3.6.8"
  }
 },
 "nbformat": 4,
 "nbformat_minor": 2
}

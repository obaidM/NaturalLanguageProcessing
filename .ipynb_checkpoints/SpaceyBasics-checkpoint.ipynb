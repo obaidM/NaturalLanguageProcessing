{
 "cells": [
  {
   "cell_type": "markdown",
   "metadata": {},
   "source": [
    "# Basics of SPACY done for team CONCEPTUAL understanding by team leader_Obaid Masih"
   ]
  },
  {
   "cell_type": "code",
   "execution_count": 4,
   "metadata": {},
   "outputs": [],
   "source": [
    "import spacy"
   ]
  },
  {
   "cell_type": "code",
   "execution_count": 5,
   "metadata": {},
   "outputs": [],
   "source": [
    "nlp = spacy.load('en_core_web_sm')"
   ]
  },
  {
   "cell_type": "code",
   "execution_count": 6,
   "metadata": {},
   "outputs": [],
   "source": [
    "### write a unicode string in u'' to test the package accuracy \n",
    "doc = nlp(u'Tesla is looking forward to buy a U.S startup for $6 million')"
   ]
  },
  {
   "cell_type": "code",
   "execution_count": 7,
   "metadata": {},
   "outputs": [
    {
     "data": {
      "text/plain": [
       "Tesla is looking forward to buy a U.S startup for $6 million"
      ]
     },
     "execution_count": 7,
     "metadata": {},
     "output_type": "execute_result"
    }
   ],
   "source": [
    "doc  ### but I can actually iterate thru this document because it has been tokenized for me"
   ]
  },
  {
   "cell_type": "code",
   "execution_count": 11,
   "metadata": {},
   "outputs": [
    {
     "name": "stdout",
     "output_type": "stream",
     "text": [
      "Tesla 95 PROPN\n",
      "is 99 VERB\n",
      "looking 99 VERB\n",
      "forward 85 ADV\n",
      "to 93 PART\n",
      "buy 99 VERB\n",
      "a 89 DET\n",
      "U.S 95 PROPN\n",
      "startup 91 NOUN\n",
      "for 84 ADP\n",
      "$ 98 SYM\n",
      "6 92 NUM\n",
      "million 92 NUM\n"
     ]
    }
   ],
   "source": [
    "for token in doc:\n",
    "    print(token.text,token.pos,token.pos_ )   ### each of these numbers represent a part of speech"
   ]
  },
  {
   "cell_type": "code",
   "execution_count": 12,
   "metadata": {},
   "outputs": [
    {
     "data": {
      "text/plain": [
       "[('tagger', <spacy.pipeline.Tagger at 0x2798447c208>),\n",
       " ('parser', <spacy.pipeline.DependencyParser at 0x279845fb518>),\n",
       " ('ner', <spacy.pipeline.EntityRecognizer at 0x279845fb570>)]"
      ]
     },
     "execution_count": 12,
     "metadata": {},
     "output_type": "execute_result"
    }
   ],
   "source": [
    "nlp.pipeline"
   ]
  },
  {
   "cell_type": "markdown",
   "metadata": {},
   "source": [
    "## in python Spacy the text goes thru pipleine of 3 stages. First is tagging, second is parsing and third is named entity recgnition"
   ]
  },
  {
   "cell_type": "markdown",
   "metadata": {},
   "source": [
    "### PLEASE NOTE that token.dep will give the dependacies of the token"
   ]
  },
  {
   "cell_type": "code",
   "execution_count": 15,
   "metadata": {},
   "outputs": [
    {
     "name": "stdout",
     "output_type": "stream",
     "text": [
      "Tesla PROPN nsubjpass\n",
      "is VERB auxpass\n",
      "n't ADV neg\n",
      "intersted VERB ROOT\n",
      "in ADP prep\n",
      "buying VERB pcomp\n",
      "the DET det\n",
      "startup NOUN dobj\n",
      "anymore ADV advmod\n"
     ]
    }
   ],
   "source": [
    "doc2 = nlp(u\"Tesla isn't intersted in buying the startup anymore\")\n",
    "\n",
    "for token in doc2:\n",
    "    print(token.text,token.pos_,token.dep_)"
   ]
  },
  {
   "cell_type": "code",
   "execution_count": null,
   "metadata": {},
   "outputs": [],
   "source": []
  }
 ],
 "metadata": {
  "kernelspec": {
   "display_name": "Python 3",
   "language": "python",
   "name": "python3"
  },
  "language_info": {
   "codemirror_mode": {
    "name": "ipython",
    "version": 3
   },
   "file_extension": ".py",
   "mimetype": "text/x-python",
   "name": "python",
   "nbconvert_exporter": "python",
   "pygments_lexer": "ipython3",
   "version": "3.6.8"
  }
 },
 "nbformat": 4,
 "nbformat_minor": 2
}
